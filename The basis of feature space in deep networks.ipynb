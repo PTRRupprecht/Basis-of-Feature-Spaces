{
 "cells": [
  {
   "cell_type": "markdown",
   "metadata": {
    "colab_type": "text",
    "id": "xu2SVpFJjmJr"
   },
   "source": [
    "# The basis of feature spaces in deep networks"
   ]
  },
  {
   "cell_type": "markdown",
   "metadata": {
    "colab_type": "toc",
    "id": "hupz2hrZjdnC"
   },
   "source": [
    "This notebook is connected to a blog post that explores the activation patterns of neurons in a deep network (Inception, trained with ImageNet). It is based on Python/Tensorflow code available [here](https://github.com/tensorflow/models/blob/master/tutorials/image/imagenet/classify_image.py).\n",
    "\n",
    "As described in more detail in the blog, all of this was inspired by a publication by [Olah et al., Distill (2017)](https://distill.pub/2017/feature-visualization/).\n",
    "\n",
    "The first part of the code is simply copy-and-pasted from the repository mentioned above. If you are familiar with the Inception network, you might want to jump to the next heading."
   ]
  },
  {
   "cell_type": "code",
   "execution_count": 3,
   "metadata": {
    "colab_type": "text",
    "collapsed": false,
    "id": "-PLC9SvcQgkG"
   },
   "outputs": [
    {
     "data": {
      "text/plain": [
       "'Simple image classification with Inception.\\n\\nRun image classification with Inception trained on ImageNet 2012 Challenge data\\nset.\\n\\nThis program creates a graph from a saved GraphDef protocol buffer,\\nand runs inference on an input JPEG image. It outputs human readable\\nstrings of the top 5 predictions along with their probabilities.\\n\\nChange the --image_file argument to any jpg image to compute a\\nclassification of that image.\\n\\nPlease see the tutorial and website for a detailed description of how\\nto use this script to perform image recognition.\\n\\nhttps://tensorflow.org/tutorials/image_recognition/\\n'"
      ]
     },
     "execution_count": 3,
     "metadata": {},
     "output_type": "execute_result"
    }
   ],
   "source": [
    "# Copyright 2015 The TensorFlow Authors. All Rights Reserved.\n",
    "#\n",
    "# Licensed under the Apache License, Version 2.0 (the \"License\");\n",
    "# you may not use this file except in compliance with the License.\n",
    "# You may obtain a copy of the License at\n",
    "#\n",
    "#     http://www.apache.org/licenses/LICENSE-2.0\n",
    "#\n",
    "# Unless required by applicable law or agreed to in writing, software\n",
    "# distributed under the License is distributed on an \"AS IS\" BASIS,\n",
    "# WITHOUT WARRANTIES OR CONDITIONS OF ANY KIND, either express or implied.\n",
    "# See the License for the specific language governing permissions and\n",
    "# limitations under the License.\n",
    "# ==============================================================================\n",
    "\n",
    "'''Simple image classification with Inception.\n",
    "\n",
    "Run image classification with Inception trained on ImageNet 2012 Challenge data\n",
    "set.\n",
    "\n",
    "This program creates a graph from a saved GraphDef protocol buffer,\n",
    "and runs inference on an input JPEG image. It outputs human readable\n",
    "strings of the top 5 predictions along with their probabilities.\n",
    "\n",
    "Change the --image_file argument to any jpg image to compute a\n",
    "classification of that image.\n",
    "\n",
    "Please see the tutorial and website for a detailed description of how\n",
    "to use this script to perform image recognition.\n",
    "\n",
    "https://tensorflow.org/tutorials/image_recognition/\n",
    "'''"
   ]
  },
  {
   "cell_type": "code",
   "execution_count": 9,
   "metadata": {
    "cellView": "both",
    "colab": {
     "autoexec": {
      "startup": false,
      "wait_interval": 0
     },
     "output_extras": []
    },
    "colab_type": "code",
    "collapsed": true,
    "executionInfo": {
     "elapsed": 371,
     "status": "ok",
     "timestamp": 1457963606294,
     "user": {
      "color": "#1FA15D",
      "displayName": "Alexander Mordvintsev",
      "isAnonymous": false,
      "isMe": true,
      "permissionId": "12341152118244997759",
      "photoUrl": "https://lh3.googleusercontent.com/-XdUIqdMkCWA/AAAAAAAAAAI/AAAAAAAAAAA/4252rscbv5M/s128/photo.jpg",
      "sessionId": "1269ead540f76ce5",
      "userId": "108092561333339272254"
     },
     "user_tz": -60
    },
    "id": "jtD9nb-2QgkY",
    "outputId": "b935629b-8608-45c1-942f-612b7dbb13d3",
    "scrolled": false
   },
   "outputs": [],
   "source": [
    "from __future__ import absolute_import\n",
    "from __future__ import division\n",
    "from __future__ import print_function\n",
    "\n",
    "import argparse\n",
    "import os.path\n",
    "import re\n",
    "import sys\n",
    "import tarfile\n",
    "\n",
    "import numpy as np\n",
    "from six.moves import urllib\n",
    "import tensorflow as tf\n",
    "\n",
    "# added by Peter R. for this notebook\n",
    "import matplotlib.pyplot as plt\n",
    "import seaborn as sns\n",
    "import glob\n",
    "\n",
    "FLAGS = None\n",
    "\n",
    "# pylint: disable=line-too-long\n",
    "DATA_URL = 'http://download.tensorflow.org/models/image/imagenet/inception-2015-12-05.tgz'\n",
    "# pylint: enable=line-too-long\n",
    "\n",
    "\n",
    "class NodeLookup(object):\n",
    "  \"\"\"Converts integer node ID's to human readable labels.\"\"\"\n",
    "\n",
    "  def __init__(self,\n",
    "               label_lookup_path=None,\n",
    "               uid_lookup_path=None):\n",
    "    if not label_lookup_path:\n",
    "      label_lookup_path = os.path.join(\n",
    "          FLAGS.model_dir, 'imagenet_2012_challenge_label_map_proto.pbtxt')\n",
    "    if not uid_lookup_path:\n",
    "      uid_lookup_path = os.path.join(\n",
    "          FLAGS.model_dir, 'imagenet_synset_to_human_label_map.txt')\n",
    "    self.node_lookup = self.load(label_lookup_path, uid_lookup_path)\n",
    "\n",
    "  def load(self, label_lookup_path, uid_lookup_path):\n",
    "    \"\"\"Loads a human readable English name for each softmax node.\n",
    "\n",
    "    Args:\n",
    "      label_lookup_path: string UID to integer node ID.\n",
    "      uid_lookup_path: string UID to human-readable string.\n",
    "\n",
    "    Returns:\n",
    "      dict from integer node ID to human-readable string.\n",
    "    \"\"\"\n",
    "    if not tf.gfile.Exists(uid_lookup_path):\n",
    "      tf.logging.fatal('File does not exist %s', uid_lookup_path)\n",
    "    if not tf.gfile.Exists(label_lookup_path):\n",
    "      tf.logging.fatal('File does not exist %s', label_lookup_path)\n",
    "\n",
    "    # Loads mapping from string UID to human-readable string\n",
    "    proto_as_ascii_lines = tf.gfile.GFile(uid_lookup_path).readlines()\n",
    "    uid_to_human = {}\n",
    "    p = re.compile(r'[n\\d]*[ \\S,]*')\n",
    "    for line in proto_as_ascii_lines:\n",
    "      parsed_items = p.findall(line)\n",
    "      uid = parsed_items[0]\n",
    "      human_string = parsed_items[2]\n",
    "      uid_to_human[uid] = human_string\n",
    "\n",
    "    # Loads mapping from string UID to integer node ID.\n",
    "    node_id_to_uid = {}\n",
    "    proto_as_ascii = tf.gfile.GFile(label_lookup_path).readlines()\n",
    "    for line in proto_as_ascii:\n",
    "      if line.startswith('  target_class:'):\n",
    "        target_class = int(line.split(': ')[1])\n",
    "      if line.startswith('  target_class_string:'):\n",
    "        target_class_string = line.split(': ')[1]\n",
    "        node_id_to_uid[target_class] = target_class_string[1:-2]\n",
    "\n",
    "    # Loads the final mapping of integer node ID to human-readable string\n",
    "    node_id_to_name = {}\n",
    "    for key, val in node_id_to_uid.items():\n",
    "      if val not in uid_to_human:\n",
    "        tf.logging.fatal('Failed to locate: %s', val)\n",
    "      name = uid_to_human[val]\n",
    "      node_id_to_name[key] = name\n",
    "\n",
    "    return node_id_to_name\n",
    "\n",
    "  def id_to_string(self, node_id):\n",
    "    if node_id not in self.node_lookup:\n",
    "      return ''\n",
    "    return self.node_lookup[node_id]\n",
    "\n",
    "\n",
    "def create_graph():\n",
    "  \"\"\"Creates a graph from saved GraphDef file and returns a saver.\"\"\"\n",
    "  # Creates graph from saved graph_def.pb.\n",
    "  with tf.gfile.FastGFile(os.path.join(\n",
    "      FLAGS.model_dir, 'classify_image_graph_def.pb'), 'rb') as f:\n",
    "    graph_def = tf.GraphDef()\n",
    "    graph_def.ParseFromString(f.read())\n",
    "    _ = tf.import_graph_def(graph_def, name='')\n",
    "\n",
    "\n",
    "def maybe_download_and_extract():\n",
    "  \"\"\"Download and extract model tar file.\"\"\"\n",
    "  dest_directory = FLAGS.model_dir\n",
    "  if not os.path.exists(dest_directory):\n",
    "    os.makedirs(dest_directory)\n",
    "  filename = DATA_URL.split('/')[-1]\n",
    "  filepath = os.path.join(dest_directory, filename)\n",
    "  if not os.path.exists(filepath):\n",
    "    def _progress(count, block_size, total_size):\n",
    "      sys.stdout.write('\\r>> Downloading %s %.1f%%' % (\n",
    "          filename, float(count * block_size) / float(total_size) * 100.0))\n",
    "      sys.stdout.flush()\n",
    "    filepath, _ = urllib.request.urlretrieve(DATA_URL, filepath, _progress)\n",
    "    print()\n",
    "    statinfo = os.stat(filepath)\n",
    "    print('Successfully downloaded', filename, statinfo.st_size, 'bytes.')\n",
    "  tarfile.open(filepath, 'r:gz').extractall(dest_directory)\n",
    "\n",
    "\n",
    "# the following part is slightly modified (Peter R.)\n",
    "parser = argparse.ArgumentParser()\n",
    "# classify_image_graph_def.pb:\n",
    "#   Binary representation of the GraphDef protocol buffer.\n",
    "# imagenet_synset_to_human_label_map.txt:\n",
    "#   Map from synset ID to a human readable string.\n",
    "# imagenet_2012_challenge_label_map_proto.pbtxt:\n",
    "#   Text representation of a protocol buffer mapping a label to synset ID.\n",
    "parser.add_argument(\n",
    "  '--model_dir',\n",
    "  type=str,\n",
    "  default='/tmp/imagenet',\n",
    "  help=\"\"\"\\\n",
    "  Path to classify_image_graph_def.pb,\n",
    "  imagenet_synset_to_human_label_map.txt, and\n",
    "  imagenet_2012_challenge_label_map_proto.pbtxt.\\\n",
    "  \"\"\"\n",
    ")\n",
    "parser.add_argument(\n",
    "  '--image_file',\n",
    "  type=str,\n",
    "  default='',\n",
    "  help='Absolute path to image file.'\n",
    ")\n",
    "parser.add_argument(\n",
    "  '--num_top_predictions',\n",
    "  type=int,\n",
    "  default=5,\n",
    "  help='Display this many predictions.'\n",
    ")\n",
    "FLAGS, unparsed = parser.parse_known_args()"
   ]
  },
  {
   "cell_type": "markdown",
   "metadata": {
    "colab_type": "text",
    "id": "ILvNKvMvc2n5"
   },
   "source": [
    "\n",
    "# Prepare model and data"
   ]
  },
  {
   "cell_type": "code",
   "execution_count": 19,
   "metadata": {
    "collapsed": false,
    "scrolled": false
   },
   "outputs": [
    {
     "data": {
      "text/plain": [
       "7"
      ]
     },
     "execution_count": 19,
     "metadata": {},
     "output_type": "execute_result"
    }
   ],
   "source": [
    "# Downloads the inception model\n",
    "maybe_download_and_extract()\n",
    "\n",
    "# Creates graph from saved GraphDef.\n",
    "create_graph()\n",
    "\n",
    "# Defines the layers to be analyzed\n",
    "Layers = [ 'conv','conv_1','conv_2','conv_3','conv_4','mixed/join','mixed_2/join','mixed_3/join', 'mixed_4/join','mixed_5/join','mixed_6/join','mixed_7/join','mixed_8/join','mixed_9/join','mixed_10/join','softmax']\n",
    "\n",
    "# Gets all layer names in the first place:\n",
    "#for op in sess.graph.get_operations():\n",
    "#    print(str(op.name))\n",
    "\n",
    "# Finds all pictures available\n",
    "FileList_anima = glob.glob('AnimalPics/*.jpg')"
   ]
  },
  {
   "cell_type": "markdown",
   "metadata": {},
   "source": [
    "# Extracts distributions of activations from each layer"
   ]
  },
  {
   "cell_type": "code",
   "execution_count": 20,
   "metadata": {
    "cellView": "both",
    "colab": {
     "autoexec": {
      "startup": false,
      "wait_interval": 0
     },
     "output_extras": []
    },
    "colab_type": "code",
    "collapsed": false,
    "executionInfo": {
     "elapsed": 2264,
     "status": "ok",
     "timestamp": 1457962713799,
     "user": {
      "color": "#1FA15D",
      "displayName": "Alexander Mordvintsev",
      "isAnonymous": false,
      "isMe": true,
      "permissionId": "12341152118244997759",
      "photoUrl": "https://lh3.googleusercontent.com/-XdUIqdMkCWA/AAAAAAAAAAI/AAAAAAAAAAA/4252rscbv5M/s128/photo.jpg",
      "sessionId": "761b412462cda2d0",
      "userId": "108092561333339272254"
     },
     "user_tz": -60
    },
    "id": "1kJuJRLiQgkg",
    "outputId": "d2aaf8cc-91e1-4864-8cf8-0aef612db1d6",
    "scrolled": false
   },
   "outputs": [
    {
     "data": {
      "image/png": "[encoded data removed]",
      "text/plain": [
       "<matplotlib.figure.Figure at 0x7f7e2c465240>"
      ]
     },
     "metadata": {},
     "output_type": "display_data"
    },
    {
     "data": {
      "image/png": "[encoded data removed]",
      "text/plain": [
       "<matplotlib.figure.Figure at 0x7f7e2c55d5f8>"
      ]
     },
     "metadata": {},
     "output_type": "display_data"
    },
    {
     "data": {
      "image/png": "[encoded data removed]",
      "text/plain": [
       "<matplotlib.figure.Figure at 0x7f7e0ca62f98>"
      ]
     },
     "metadata": {},
     "output_type": "display_data"
    },
    {
     "data": {
      "image/png": "[encoded data removed]",
      "text/plain": [
       "<matplotlib.figure.Figure at 0x7f7e2c7a3048>"
      ]
     },
     "metadata": {},
     "output_type": "display_data"
    },
    {
     "data": {
      "image/png": "[encoded data removed]",
      "text/plain": [
       "<matplotlib.figure.Figure at 0x7f7e2c6caa58>"
      ]
     },
     "metadata": {},
     "output_type": "display_data"
    },
    {
     "data": {
      "image/png": "[encoded data removed]",
      "text/plain": [
       "<matplotlib.figure.Figure at 0x7f7dda0eaa20>"
      ]
     },
     "metadata": {},
     "output_type": "display_data"
    },
    {
     "data": {
      "image/png": "[encoded data removed]",
      "text/plain": [
       "<matplotlib.figure.Figure at 0x7f7dda6523c8>"
      ]
     },
     "metadata": {},
     "output_type": "display_data"
    },
    {
     "data": {
      "image/png": "[encoded data removed]",
      "text/plain": [
       "<matplotlib.figure.Figure at 0x7f7e2c99aeb8>"
      ]
     },
     "metadata": {},
     "output_type": "display_data"
    },
    {
     "data": {
      "image/png": "[encoded data removed]",
      "text/plain": [
       "<matplotlib.figure.Figure at 0x7f7dda4d5e10>"
      ]
     },
     "metadata": {},
     "output_type": "display_data"
    },
    {
     "data": {
      "image/png": "[encoded data removed]",
      "text/plain": [
       "<matplotlib.figure.Figure at 0x7f7dda4c47f0>"
      ]
     },
     "metadata": {},
     "output_type": "display_data"
    },
    {
     "data": {
      "image/png": "[encoded data removed]",
      "text/plain": [
       "<matplotlib.figure.Figure at 0x7f7e0cc34518>"
      ]
     },
     "metadata": {},
     "output_type": "display_data"
    },
    {
     "data": {
      "image/png": "[encoded data removed]",
      "text/plain": [
       "<matplotlib.figure.Figure at 0x7f7dda00b5c0>"
      ]
     },
     "metadata": {},
     "output_type": "display_data"
    },
    {
     "data": {
      "image/png": "[encoded data removed]",
      "text/plain": [
       "<matplotlib.figure.Figure at 0x7f7e2c821ef0>"
      ]
     },
     "metadata": {},
     "output_type": "display_data"
    },
    {
     "data": {
      "image/png": "[encoded data removed]",
      "text/plain": [
       "<matplotlib.figure.Figure at 0x7f7dda667390>"
      ]
     },
     "metadata": {},
     "output_type": "display_data"
    },
    {
     "data": {
      "image/png": "[encoded data removed]",
      "text/plain": [
       "<matplotlib.figure.Figure at 0x7f7e2c29b198>"
      ]
     },
     "metadata": {},
     "output_type": "display_data"
    }
   ],
   "source": [
    "# Starts an interactive Tensorflow session\n",
    "sess = tf.InteractiveSession()\n",
    "\n",
    "# This is probably not the best way to initialize this structure, but it works ...\n",
    "activations_all = np.array([None,None,None,None,None,None,None,None,None,None,None,None,None,None,None,None])\n",
    "\n",
    "# Go through each picture (kk) and then each layer of the network (i) and extract the activations\n",
    "for kk in range(len(FileList_anima)):\n",
    "    image = FileList_anima[kk]\n",
    "    image_data = tf.gfile.FastGFile(image, 'rb').read()\n",
    "    for i,layer in enumerate(Layers[:]):\n",
    "        layerX = sess.graph.get_tensor_by_name(layer+':0')\n",
    "        activations = sess.run(layerX,{'DecodeJpeg/contents:0': image_data})\n",
    "        activations = np.squeeze(activations)\n",
    "        flat_activations = activations.flatten()\n",
    "        activations_all[i] = np.append(activations_all[i],flat_activations)\n",
    "\n",
    "# Closes Tensorflow session        \n",
    "sess.close()\n",
    "\n",
    "# Allows plotting in the Jupyter Notebook\n",
    "%matplotlib inline\n",
    "\n",
    "# Plots histograms of activation patterns for each layer\n",
    "plt.figure(116)\n",
    "for kk in range(len(Layers)-1):\n",
    "    # Extracts activations for the respective layer\n",
    "    AA = activations_all[kk][1:]\n",
    "    # Quantifies percentage of silent neurons\n",
    "    percentage = len(AA[AA>0])/len(AA)\n",
    "    # Plots histograms\n",
    "    ax = plt.subplot(4, 4, kk+1)\n",
    "    plt.hist(AA[AA>0],100) # only non-zero activations\n",
    "    \n",
    "    # Beautifications\n",
    "    plt.text(5, ax.get_ylim()[1]*0.4, Layers[kk])\n",
    "    plt.text(5, ax.get_ylim()[1]*0.08,'%02d%%' % np.round(100.0*percentage))\n",
    "    plt.yscale('log', nonposy='clip') # logscale\n",
    "    plt.tick_params(\n",
    "    axis='y',        \n",
    "    left='off',      \n",
    "    right='off',        \n",
    "    labelleft='off')\n",
    "    plt.xlim([0,10])\n",
    "    if kk < 11:\n",
    "        plt.tick_params(\n",
    "        axis='x',          # changes apply to the x-axis\n",
    "        bottom='off',      # ticks along the bottom edge are off\n",
    "        top='off',         # ticks along the top edge are off\n",
    "        labelbottom='off') # labels along the bottom edge are off\n",
    "    plt.show()"
   ]
  },
  {
   "cell_type": "markdown",
   "metadata": {
    "colab_type": "text",
    "id": "eJZVMSmiQgkp"
   },
   "source": [
    "# Plots activation levels together with de-correlation of activation patterns"
   ]
  },
  {
   "cell_type": "code",
   "execution_count": 21,
   "metadata": {
    "cellView": "both",
    "colab": {
     "autoexec": {
      "startup": false,
      "wait_interval": 0
     },
     "output_extras": [
      {
       "item_id": 1
      },
      {
       "item_id": 2
      }
     ]
    },
    "colab_type": "code",
    "collapsed": false,
    "executionInfo": {
     "elapsed": 1198,
     "status": "ok",
     "timestamp": 1457962715078,
     "user": {
      "color": "#1FA15D",
      "displayName": "Alexander Mordvintsev",
      "isAnonymous": false,
      "isMe": true,
      "permissionId": "12341152118244997759",
      "photoUrl": "https://lh3.googleusercontent.com/-XdUIqdMkCWA/AAAAAAAAAAI/AAAAAAAAAAA/4252rscbv5M/s128/photo.jpg",
      "sessionId": "761b412462cda2d0",
      "userId": "108092561333339272254"
     },
     "user_tz": -60
    },
    "id": "LrucdvgyQgks",
    "outputId": "5936270b-5da8-4825-b2e9-145c494d36e6",
    "scrolled": false
   },
   "outputs": [
    {
     "name": "stdout",
     "output_type": "stream",
     "text": [
      "0\n",
      "1\n",
      "2\n",
      "3\n",
      "4\n",
      "5\n",
      "6\n",
      "7\n",
      "8\n",
      "9\n",
      "10\n",
      "11\n",
      "12\n",
      "13\n",
      "14\n",
      "15\n",
      "16\n",
      "17\n",
      "18\n",
      "19\n"
     ]
    },
    {
     "data": {
      "text/plain": [
       "<matplotlib.figure.Figure at 0x7f7e0dbb5f28>"
      ]
     },
     "metadata": {},
     "output_type": "display_data"
    },
    {
     "data": {
      "image/png": "[encoded data removed]",
      "text/plain": [
       "<matplotlib.figure.Figure at 0x7f7eecafa6a0>"
      ]
     },
     "metadata": {},
     "output_type": "display_data"
    }
   ],
   "source": [
    "# Starts an interactive Tensorflow session\n",
    "sess = tf.InteractiveSession()\n",
    "\n",
    "# Computes correlations between evoked activation patterns of stimulus pairs\n",
    "nb_pairs = 20\n",
    "Correlation_structure = np.zeros((nb_pairs,len(Layers)))\n",
    "for kk in range(nb_pairs):\n",
    "    print(kk)\n",
    "    # Chooses two randomly selected input images\n",
    "    ixs = np.random.choice(len(FileList_anima),2)\n",
    "    # Loads the two images\n",
    "    image1 = FileList_anima[ixs[0]]\n",
    "    image_data1 = tf.gfile.FastGFile(image1, 'rb').read()\n",
    "    image2 = FileList_anima[ixs[1]]\n",
    "    image_data2 = tf.gfile.FastGFile(image2, 'rb').read()\n",
    "    # Computes the correlations between the two activation patterns for each layer\n",
    "    for i,layer in enumerate(Layers[:]):\n",
    "        layerX = sess.graph.get_tensor_by_name(layer+':0')\n",
    "        activations1 = sess.run(layerX,{'DecodeJpeg/contents:0': image_data1})\n",
    "        activations1 = np.squeeze(activations1)\n",
    "        flat_activations1 = activations1.flatten()\n",
    "        activations2 = sess.run(layerX,{'DecodeJpeg/contents:0': image_data2})\n",
    "        activations2 = np.squeeze(activations2)\n",
    "        flat_activations2 = activations2.flatten()\n",
    "\n",
    "        Correlation_structure[kk,i] = np.corrcoef(flat_activations1,flat_activations2)[0,1]\n",
    "\n",
    "# Percentage of activated neurons for each layer, as computed before\n",
    "percentageX = np.zeros((len(Layers),1))\n",
    "for kk in range(len(Layers)):\n",
    "    AA = activations_all[kk][1:]\n",
    "    percentageX[kk] = len(AA[AA>0])/len(AA)\n",
    "\n",
    "# Plots both correlations between activation patterns and percentage of activated neurons as a function of layer\n",
    "# Layers close to the input are to the left, layers close to the output are located to the right side\n",
    "plt.figure(21)\n",
    "fig, ax1 = plt.subplots()\n",
    "sns.set(color_codes=True)\n",
    "ax1.plot(np.arange(1,17),np.mean(1-Correlation_structure[0:,:],axis=0))\n",
    "ax1.set_ylabel('Decorrelation of activity')\n",
    "ax1.set_ylim([0.1, 1])\n",
    "ax2 = ax1.twinx()\n",
    "ax2.plot(np.arange(1,17),percentageX)\n",
    "ax2.set_ylabel('Percentage of active neurons')\n",
    "ax2.set_xlabel('Layer index')\n",
    "ax2.set_ylim([0.1, 1])\n",
    "\n",
    "# Closes interactive Tensorflow session\n",
    "sess.close()"
   ]
  },
  {
   "cell_type": "code",
   "execution_count": null,
   "metadata": {
    "collapsed": true
   },
   "outputs": [],
   "source": []
  }
 ],
 "metadata": {
  "colab": {
   "default_view": {},
   "name": "deepdream2.ipynb",
   "provenance": [],
   "version": "0.3.2",
   "views": {}
  },
  "kernelspec": {
   "display_name": "Python 3",
   "language": "python",
   "name": "python3"
  },
  "language_info": {
   "codemirror_mode": {
    "name": "ipython",
    "version": 3
   },
   "file_extension": ".py",
   "mimetype": "text/x-python",
   "name": "python",
   "nbconvert_exporter": "python",
   "pygments_lexer": "ipython3",
   "version": "3.6.0"
  }
 },
 "nbformat": 4,
 "nbformat_minor": 0
}
